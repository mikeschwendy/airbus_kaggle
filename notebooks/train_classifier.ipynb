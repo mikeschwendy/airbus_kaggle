{
 "cells": [
  {
   "cell_type": "code",
   "execution_count": 3,
   "metadata": {},
   "outputs": [],
   "source": [
    "import os\n",
    "import sys\n",
    "import time\n",
    "import datetime\n",
    "import argparse\n",
    "import pickle\n",
    "from skimage.data import imread\n",
    "import torch\n",
    "from torch.utils.data import DataLoader\n",
    "from torchvision import datasets\n",
    "from torchvision import transforms\n",
    "from torch.autograd import Variable\n",
    "import torch.optim as optim\n",
    "\n",
    "sys.path.append('/Users/mike/Desktop/airbus_kaggle/src/PyTorch-YOLOv3_lite')\n",
    "\n"
   ]
  },
  {
   "cell_type": "code",
   "execution_count": 4,
   "metadata": {},
   "outputs": [
    {
     "name": "stdout",
     "output_type": "stream",
     "text": [
      "The autoreload extension is already loaded. To reload it, use:\n",
      "  %reload_ext autoreload\n"
     ]
    }
   ],
   "source": [
    "%load_ext autoreload\n",
    "%autoreload 2\n",
    "from models import *\n",
    "from utils.utils import *\n",
    "from utils.datasets import *\n",
    "from utils.parse_config import *"
   ]
  },
  {
   "cell_type": "code",
   "execution_count": 7,
   "metadata": {},
   "outputs": [
    {
     "name": "stdout",
     "output_type": "stream",
     "text": [
      "Namespace(batch_size=16, checkpoint_dir='/Users/mike/Desktop/airbus_kaggle/src/PyTorch-YOLOv3_lite/checkpoints', checkpoint_interval=1, epochs=30, image_folder='../../data', img_size=64, model_config_path='/Users/mike/Desktop/airbus_kaggle/src/PyTorch-YOLOv3_lite/config/classifier.cfg', n_cpu=0, use_cuda=True, weights_path='/Users/mike/Desktop/airbus_kaggle/src/PyTorch-YOLOv3_lite/weights/classifier.weights')\n"
     ]
    }
   ],
   "source": [
    "args = ['--image_folder','../../data',\n",
    "        '--model_config_path','/Users/mike/Desktop/airbus_kaggle/src/PyTorch-YOLOv3_lite/config/classifier.cfg',\n",
    "        '--weights_path','/Users/mike/Desktop/airbus_kaggle/src/PyTorch-YOLOv3_lite/weights/classifier.weights',\n",
    "        '--checkpoint_dir','/Users/mike/Desktop/airbus_kaggle/src/PyTorch-YOLOv3_lite/checkpoints',\n",
    "        '--img_size','64',\n",
    "        '--use_cuda','False']\n",
    "parser = argparse.ArgumentParser()\n",
    "parser.add_argument('--epochs', type=int, default=30, help='number of epochs')\n",
    "parser.add_argument('--image_folder', type=str, default='data/samples', help='path to dataset')\n",
    "parser.add_argument('--batch_size', type=int, default=16, help='size of each image batch')\n",
    "parser.add_argument('--model_config_path', type=str, default='config/yolov3.cfg', help='path to model config file')\n",
    "#parser.add_argument('--data_config_path', type=str, default='config/coco.data', help='path to data config file')\n",
    "parser.add_argument('--weights_path', type=str, default='weights/yolov3.weights', help='path to weights file')\n",
    "#parser.add_argument('--class_path', type=str, default='data/coco.names', help='path to class label file')\n",
    "#parser.add_argument('--conf_thres', type=float, default=0.8, help='object confidence threshold')\n",
    "#parser.add_argument('--nms_thres', type=float, default=0.4, help='iou thresshold for non-maximum suppression')\n",
    "parser.add_argument('--n_cpu', type=int, default=0, help='number of cpu threads to use during batch generation')\n",
    "parser.add_argument('--img_size', type=int, default=416, help='size of each image dimension')\n",
    "parser.add_argument('--checkpoint_interval', type=int, default=1, help='interval between saving model weights')\n",
    "parser.add_argument('--checkpoint_dir', type=str, default='checkpoints', help='directory where model checkpoints are saved')\n",
    "parser.add_argument('--use_cuda', type=bool, default=True, help='whether to use cuda if available')\n",
    "opt = parser.parse_args(args)\n",
    "print(opt)"
   ]
  },
  {
   "cell_type": "code",
   "execution_count": 9,
   "metadata": {},
   "outputs": [],
   "source": [
    "cuda = torch.cuda.is_available() and opt.use_cuda\n",
    "\n",
    "os.makedirs('output', exist_ok=True)\n",
    "os.makedirs('checkpoints', exist_ok=True)\n",
    "\n",
    "#classes = load_classes(opt.class_path)\n",
    "\n",
    "# Get data configuration\n",
    "#data_config     = parse_data_config(opt.data_config_path)\n",
    "#train_path      = data_config['train']\n",
    "\n",
    "# Get hyper parameters\n",
    "hyperparams     = parse_model_config(opt.model_config_path)[0]\n",
    "learning_rate   = float(hyperparams['learning_rate'])\n",
    "momentum        = float(hyperparams['momentum'])\n",
    "decay           = float(hyperparams['decay'])\n",
    "burn_in         = int(hyperparams['burn_in'])\n",
    "\n",
    "# Initiate model\n",
    "model = Darknet_Classifier(opt.model_config_path)\n",
    "#model.load_weights(opt.weights_path)\n",
    "model.apply(weights_init_normal)\n",
    "\n",
    "if cuda:\n",
    "    model = model.cuda()\n",
    "\n",
    "model.train();\n",
    "\n"
   ]
  },
  {
   "cell_type": "code",
   "execution_count": 10,
   "metadata": {},
   "outputs": [],
   "source": [
    "# Get dataloader\n",
    "outfile = '../../data/box_data.pickle'\n",
    "\n",
    "with open(outfile, 'rb') as f:\n",
    "    # Pickle the 'data' dictionary using the highest protocol available.\n",
    "    data = pickle.load(f)\n",
    "    \n",
    "dataloader = torch.utils.data.DataLoader(\n",
    "    BoxedDataset('../../data/train',(768,768),data),\n",
    "    batch_size=opt.batch_size, shuffle=True, num_workers=opt.n_cpu)\n",
    "\n",
    "Tensor = torch.cuda.FloatTensor if cuda else torch.FloatTensor\n",
    "\n",
    "optimizer = optim.SGD(model.parameters(), lr=learning_rate, momentum=momentum, dampening=0, weight_decay=decay)\n",
    "\n"
   ]
  },
  {
   "cell_type": "code",
   "execution_count": 11,
   "metadata": {},
   "outputs": [
    {
     "name": "stderr",
     "output_type": "stream",
     "text": [
      "/Users/mike/anaconda/envs/airbus_ship_detection/lib/python3.6/site-packages/skimage/transform/_warps.py:105: UserWarning: The default mode, 'constant', will be changed to 'reflect' in skimage 0.15.\n",
      "  warn(\"The default mode, 'constant', will be changed to 'reflect' in \"\n"
     ]
    },
    {
     "name": "stdout",
     "output_type": "stream",
     "text": [
      "[Epoch 0/30, Batch 0/7004] [Losses: 0.773356]\n"
     ]
    },
    {
     "ename": "KeyboardInterrupt",
     "evalue": "",
     "output_type": "error",
     "traceback": [
      "\u001b[0;31m---------------------------------------------------------------------------\u001b[0m",
      "\u001b[0;31mKeyboardInterrupt\u001b[0m                         Traceback (most recent call last)",
      "\u001b[0;32m<ipython-input-11-e43db87026ea>\u001b[0m in \u001b[0;36m<module>\u001b[0;34m()\u001b[0m\n\u001b[1;32m      8\u001b[0m         \u001b[0mloss\u001b[0m \u001b[0;34m=\u001b[0m \u001b[0mmodel\u001b[0m\u001b[0;34m(\u001b[0m\u001b[0mimgs\u001b[0m\u001b[0;34m,\u001b[0m \u001b[0mtargets\u001b[0m\u001b[0;34m)\u001b[0m\u001b[0;34m\u001b[0m\u001b[0m\n\u001b[1;32m      9\u001b[0m \u001b[0;34m\u001b[0m\u001b[0m\n\u001b[0;32m---> 10\u001b[0;31m         \u001b[0mloss\u001b[0m\u001b[0;34m.\u001b[0m\u001b[0mbackward\u001b[0m\u001b[0;34m(\u001b[0m\u001b[0;34m)\u001b[0m\u001b[0;34m\u001b[0m\u001b[0m\n\u001b[0m\u001b[1;32m     11\u001b[0m         \u001b[0moptimizer\u001b[0m\u001b[0;34m.\u001b[0m\u001b[0mstep\u001b[0m\u001b[0;34m(\u001b[0m\u001b[0;34m)\u001b[0m\u001b[0;34m\u001b[0m\u001b[0m\n\u001b[1;32m     12\u001b[0m \u001b[0;34m\u001b[0m\u001b[0m\n",
      "\u001b[0;32m~/anaconda/envs/airbus_ship_detection/lib/python3.6/site-packages/torch/tensor.py\u001b[0m in \u001b[0;36mbackward\u001b[0;34m(self, gradient, retain_graph, create_graph)\u001b[0m\n\u001b[1;32m     91\u001b[0m                 \u001b[0mproducts\u001b[0m\u001b[0;34m.\u001b[0m \u001b[0mDefaults\u001b[0m \u001b[0mto\u001b[0m\u001b[0;31m \u001b[0m\u001b[0;31m`\u001b[0m\u001b[0;31m`\u001b[0m\u001b[0;32mFalse\u001b[0m\u001b[0;31m`\u001b[0m\u001b[0;31m`\u001b[0m\u001b[0;34m.\u001b[0m\u001b[0;34m\u001b[0m\u001b[0m\n\u001b[1;32m     92\u001b[0m         \"\"\"\n\u001b[0;32m---> 93\u001b[0;31m         \u001b[0mtorch\u001b[0m\u001b[0;34m.\u001b[0m\u001b[0mautograd\u001b[0m\u001b[0;34m.\u001b[0m\u001b[0mbackward\u001b[0m\u001b[0;34m(\u001b[0m\u001b[0mself\u001b[0m\u001b[0;34m,\u001b[0m \u001b[0mgradient\u001b[0m\u001b[0;34m,\u001b[0m \u001b[0mretain_graph\u001b[0m\u001b[0;34m,\u001b[0m \u001b[0mcreate_graph\u001b[0m\u001b[0;34m)\u001b[0m\u001b[0;34m\u001b[0m\u001b[0m\n\u001b[0m\u001b[1;32m     94\u001b[0m \u001b[0;34m\u001b[0m\u001b[0m\n\u001b[1;32m     95\u001b[0m     \u001b[0;32mdef\u001b[0m \u001b[0mregister_hook\u001b[0m\u001b[0;34m(\u001b[0m\u001b[0mself\u001b[0m\u001b[0;34m,\u001b[0m \u001b[0mhook\u001b[0m\u001b[0;34m)\u001b[0m\u001b[0;34m:\u001b[0m\u001b[0;34m\u001b[0m\u001b[0m\n",
      "\u001b[0;32m~/anaconda/envs/airbus_ship_detection/lib/python3.6/site-packages/torch/autograd/__init__.py\u001b[0m in \u001b[0;36mbackward\u001b[0;34m(tensors, grad_tensors, retain_graph, create_graph, grad_variables)\u001b[0m\n\u001b[1;32m     88\u001b[0m     Variable._execution_engine.run_backward(\n\u001b[1;32m     89\u001b[0m         \u001b[0mtensors\u001b[0m\u001b[0;34m,\u001b[0m \u001b[0mgrad_tensors\u001b[0m\u001b[0;34m,\u001b[0m \u001b[0mretain_graph\u001b[0m\u001b[0;34m,\u001b[0m \u001b[0mcreate_graph\u001b[0m\u001b[0;34m,\u001b[0m\u001b[0;34m\u001b[0m\u001b[0m\n\u001b[0;32m---> 90\u001b[0;31m         allow_unreachable=True)  # allow_unreachable flag\n\u001b[0m\u001b[1;32m     91\u001b[0m \u001b[0;34m\u001b[0m\u001b[0m\n\u001b[1;32m     92\u001b[0m \u001b[0;34m\u001b[0m\u001b[0m\n",
      "\u001b[0;31mKeyboardInterrupt\u001b[0m: "
     ]
    }
   ],
   "source": [
    "for epoch in range(opt.epochs):\n",
    "    for batch_i, (imgs, targets) in enumerate(dataloader):\n",
    "        imgs = Variable(imgs.type(Tensor))\n",
    "        targets = Variable(targets.type(Tensor), requires_grad=False)\n",
    "\n",
    "        optimizer.zero_grad()\n",
    "\n",
    "        loss = model(imgs, targets)\n",
    "\n",
    "        loss.backward()\n",
    "        optimizer.step()\n",
    "\n",
    "        print('[Epoch %d/%d, Batch %d/%d] [Losses: %f]' %\n",
    "                                    (epoch, opt.epochs, batch_i, len(dataloader),loss.item()))\n",
    "\n",
    "        model.seen += imgs.size(0)\n",
    "\n",
    "    if epoch % opt.checkpoint_interval == 0:\n",
    "        model.save_weights('%s/%d.weights' % (opt.checkpoint_dir, epoch))"
   ]
  },
  {
   "cell_type": "code",
   "execution_count": null,
   "metadata": {},
   "outputs": [],
   "source": [
    "1024*16"
   ]
  },
  {
   "cell_type": "code",
   "execution_count": null,
   "metadata": {},
   "outputs": [],
   "source": [
    "targets"
   ]
  },
  {
   "cell_type": "code",
   "execution_count": null,
   "metadata": {},
   "outputs": [],
   "source": []
  }
 ],
 "metadata": {
  "kernelspec": {
   "display_name": "Python 3",
   "language": "python",
   "name": "python3"
  },
  "language_info": {
   "codemirror_mode": {
    "name": "ipython",
    "version": 3
   },
   "file_extension": ".py",
   "mimetype": "text/x-python",
   "name": "python",
   "nbconvert_exporter": "python",
   "pygments_lexer": "ipython3",
   "version": "3.6.6"
  }
 },
 "nbformat": 4,
 "nbformat_minor": 2
}
