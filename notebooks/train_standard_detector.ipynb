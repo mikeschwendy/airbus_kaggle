{
 "cells": [
  {
   "cell_type": "code",
   "execution_count": 1,
   "metadata": {},
   "outputs": [],
   "source": [
    "import os\n",
    "import sys\n",
    "import time\n",
    "import datetime\n",
    "import argparse\n",
    "import pickle\n",
    "from skimage.data import imread\n",
    "import torch\n",
    "from torch.utils.data import DataLoader\n",
    "from torchvision import datasets\n",
    "from torchvision import transforms\n",
    "from torch.autograd import Variable\n",
    "import torch.optim as optim\n",
    "from PIL import Image\n",
    "\n",
    "sys.path.append('/floyd/home/PyTorch-YOLOv3_lite')"
   ]
  },
  {
   "cell_type": "code",
   "execution_count": 2,
   "metadata": {},
   "outputs": [
    {
     "name": "stdout",
     "output_type": "stream",
     "text": [
      "The autoreload extension is already loaded. To reload it, use:\n",
      "  %reload_ext autoreload\n"
     ]
    }
   ],
   "source": [
    "%load_ext autoreload\n",
    "%autoreload 2\n",
    "from models import *\n",
    "from utils.utils import *\n",
    "from utils.datasets import *\n",
    "from utils.parse_config import *"
   ]
  },
  {
   "cell_type": "code",
   "execution_count": 3,
   "metadata": {},
   "outputs": [],
   "source": [
    "args = ['--image_folder','/floyd/input/airbus/train',\n",
    "        '--box_file','/floyd/input/airbus/box_data.pickle',\n",
    "        '--model_config_path','/floyd/home/PyTorch-YOLOv3_lite/config/classifier.cfg',\n",
    "        '--weights_path','/floyd/input/weights/6.weights',\n",
    "        '--checkpoint_dir','/floyd/home/output',\n",
    "        '--img_size','64',\n",
    "        '--epochs','30',\n",
    "        '--n_cpu','4',\n",
    "        '--use_cuda','True']\n",
    "parser = argparse.ArgumentParser()\n",
    "parser.add_argument('--epochs', type=int, default=30, help='number of epochs')\n",
    "parser.add_argument('--image_folder', type=str, default='data/samples', help='path to dataset')\n",
    "parser.add_argument('--box_file', type=str, default='data/samples', help='path to box data')\n",
    "parser.add_argument('--batch_size', type=int, default=16, help='size of each image batch')\n",
    "parser.add_argument('--model_config_path', type=str, default='config/yolov3.cfg', help='path to model config file')\n",
    "parser.add_argument('--weights_path', type=str, default='weights/yolov3.weights', help='path to weights file')\n",
    "parser.add_argument('--conf_thres', type=float, default=0.8, help='object confidence threshold')\n",
    "parser.add_argument('--nms_thres', type=float, default=0.4, help='iou thresshold for non-maximum suppression')\n",
    "parser.add_argument('--n_cpu', type=int, default=0, help='number of cpu threads to use during batch generation')\n",
    "parser.add_argument('--img_size', type=int, default=416, help='size of each image dimension')\n",
    "parser.add_argument('--checkpoint_interval', type=int, default=1, help='interval between saving model weights')\n",
    "parser.add_argument('--checkpoint_dir', type=str, default='checkpoints', help='directory where model checkpoints are saved')\n",
    "parser.add_argument('--use_cuda', type=bool, default=True, help='whether to use cuda if available')\n",
    "opt = parser.parse_args(args)"
   ]
  },
  {
   "cell_type": "code",
   "execution_count": 4,
   "metadata": {},
   "outputs": [],
   "source": [
    "cuda = torch.cuda.is_available() and opt.use_cuda\n",
    "\n",
    "os.makedirs(opt.checkpoint_dir, exist_ok=True)\n",
    "\n",
    "# Get hyper parameters\n",
    "hyperparams     = parse_model_config(opt.model_config_path)[0]\n",
    "learning_rate   = float(hyperparams['learning_rate'])\n",
    "momentum        = float(hyperparams['momentum'])\n",
    "decay           = float(hyperparams['decay'])\n",
    "burn_in         = int(hyperparams['burn_in'])\n",
    "\n",
    "# Initiate model\n",
    "model = Darknet_Classifier(opt.model_config_path)\n",
    "model.load_weights(opt.weights_path)\n",
    "model.apply(weights_init_normal)\n",
    "\n",
    "if cuda:\n",
    "    model = model.cuda()\n",
    "\n",
    "model.train();\n",
    "\n"
   ]
  },
  {
   "cell_type": "code",
   "execution_count": 15,
   "metadata": {},
   "outputs": [],
   "source": [
    "class BoxDetections(Dataset):\n",
    "    def __init__(self,imgdir,imgsize,data):\n",
    "        super().__init__()\n",
    "        self.imgdir = imgdir\n",
    "        self.imgsize = imgsize\n",
    "        self.box_image_ids = data['box_image_ids']\n",
    "        self.L1 = data['L1']\n",
    "        self.L2 = data['L2']\n",
    "        self.R0 = data['C0'] # accidently switched when saved\n",
    "        self.C0 = data['R0'] # accidently switched when saved\n",
    "        self.theta = data['theta']\n",
    "        self.all_image_ids = data['all_image_ids']\n",
    "        self.num_ships = data['num_ships']\n",
    "        self.total_ships = sum(self.num_ships)\n",
    "        self.total_imgs = len(self.all_image_ids)\n",
    "        self.max_objects = 20\n",
    "    def __len__(self):\n",
    "        return self.total_imgs\n",
    "    def __getitem__(self,idx):\n",
    "        img_path = os.path.join(self.imgdir,self.all_image_ids[idx])\n",
    "        img = np.array(Image.open(img_path)) \n",
    "        # Channels-first\n",
    "        img = np.transpose(img, (2, 0, 1))\n",
    "        # As pytorch tensor\n",
    "        img = torch.from_numpy(img).float()\n",
    "        # Find boxes in img\n",
    "        # Fill matrix\n",
    "        labels = np.zeros((self.max_objects, 7)) \n",
    "        if self.num_ships[idx] != 0:\n",
    "            box_inds = [i for i,x in enumerate(self.box_image_ids) if x is self.all_image_ids[idx]]\n",
    "            for i,ind in enumerate(box_inds[:self.max_objects]):\n",
    "                L1 = self.L1[ind]\n",
    "                L2 = self.L2[ind]\n",
    "                R0 = self.R0[ind]\n",
    "                C0 = self.C0[ind]\n",
    "                theta = self.theta[ind]\n",
    "                # Calculate ratios from coordinates\n",
    "                labels[i, 1] = R0 / self.imgsize\n",
    "                labels[i, 2] = C0 / self.imgsize\n",
    "                labels[i, 3] = L1 / self.imgsize\n",
    "                labels[i, 4] = L2 / self.imgsize\n",
    "                labels[i, 5] = np.sin(theta)\n",
    "                labels[i, 6] = np.cos(theta)\n",
    "        labels = torch.from_numpy(labels)\n",
    "        return img_path, img, labels\n",
    "    "
   ]
  },
  {
   "cell_type": "code",
   "execution_count": 16,
   "metadata": {},
   "outputs": [],
   "source": [
    "# Get dataloader\n",
    "with open(opt.box_file, 'rb') as f:\n",
    "    data = pickle.load(f)\n",
    "    \n",
    "dataloader = torch.utils.data.DataLoader(\n",
    "    BoxDetections(opt.image_folder,768,data),\n",
    "    batch_size=opt.batch_size, shuffle=True, num_workers=opt.n_cpu, pin_memory=True)\n",
    "\n",
    "Tensor = torch.cuda.FloatTensor if cuda else torch.FloatTensor\n",
    "\n",
    "optimizer = optim.SGD(model.parameters(), lr=learning_rate, momentum=momentum, dampening=0, weight_decay=decay)\n"
   ]
  },
  {
   "cell_type": "code",
   "execution_count": 17,
   "metadata": {},
   "outputs": [],
   "source": [
    "bdtest = BoxDetections(opt.image_folder,768,data)"
   ]
  },
  {
   "cell_type": "code",
   "execution_count": 18,
   "metadata": {},
   "outputs": [],
   "source": [
    "img_path, img, label = bdtest.__getitem__(2);"
   ]
  },
  {
   "cell_type": "code",
   "execution_count": 19,
   "metadata": {},
   "outputs": [
    {
     "data": {
      "text/plain": [
       "tensor([[ 0.0000,  0.9720,  0.1940,  0.0470,  0.0141, -0.8321,  0.5547],\n",
       "        [ 0.0000,  0.9896,  0.1680,  0.0134,  0.0076, -0.8742,  0.4856],\n",
       "        [ 0.0000,  0.9336,  0.1315,  0.0131,  0.0039,  0.9950,  0.0995],\n",
       "        [ 0.0000,  0.8626,  0.2572,  0.0054,  0.0029,  0.9701,  0.2425],\n",
       "        [ 0.0000,  0.8242,  0.2389,  0.0095,  0.0041, -0.2747,  0.9615],\n",
       "        [ 0.0000,  0.9251,  0.1510,  0.0095,  0.0041,  0.9615,  0.2747],\n",
       "        [ 0.0000,  0.9284,  0.1348,  0.0184,  0.0054,  0.9899,  0.1414],\n",
       "        [ 0.0000,  0.9219,  0.1361,  0.0158,  0.0054,  0.9864,  0.1644],\n",
       "        [ 0.0000,  0.9857,  0.2064,  0.0517,  0.0138, -0.7557,  0.6549],\n",
       "        [ 0.0000,  0.0000,  0.0000,  0.0000,  0.0000,  0.0000,  0.0000],\n",
       "        [ 0.0000,  0.0000,  0.0000,  0.0000,  0.0000,  0.0000,  0.0000],\n",
       "        [ 0.0000,  0.0000,  0.0000,  0.0000,  0.0000,  0.0000,  0.0000],\n",
       "        [ 0.0000,  0.0000,  0.0000,  0.0000,  0.0000,  0.0000,  0.0000],\n",
       "        [ 0.0000,  0.0000,  0.0000,  0.0000,  0.0000,  0.0000,  0.0000],\n",
       "        [ 0.0000,  0.0000,  0.0000,  0.0000,  0.0000,  0.0000,  0.0000],\n",
       "        [ 0.0000,  0.0000,  0.0000,  0.0000,  0.0000,  0.0000,  0.0000],\n",
       "        [ 0.0000,  0.0000,  0.0000,  0.0000,  0.0000,  0.0000,  0.0000],\n",
       "        [ 0.0000,  0.0000,  0.0000,  0.0000,  0.0000,  0.0000,  0.0000],\n",
       "        [ 0.0000,  0.0000,  0.0000,  0.0000,  0.0000,  0.0000,  0.0000],\n",
       "        [ 0.0000,  0.0000,  0.0000,  0.0000,  0.0000,  0.0000,  0.0000]], dtype=torch.float64)"
      ]
     },
     "execution_count": 19,
     "metadata": {},
     "output_type": "execute_result"
    }
   ],
   "source": [
    "label"
   ]
  },
  {
   "cell_type": "code",
   "execution_count": null,
   "metadata": {},
   "outputs": [],
   "source": []
  }
 ],
 "metadata": {
  "kernelspec": {
   "display_name": "Python 3",
   "language": "python",
   "name": "python3"
  },
  "language_info": {
   "codemirror_mode": {
    "name": "ipython",
    "version": 3
   },
   "file_extension": ".py",
   "mimetype": "text/x-python",
   "name": "python",
   "nbconvert_exporter": "python",
   "pygments_lexer": "ipython3",
   "version": "3.6.5"
  }
 },
 "nbformat": 4,
 "nbformat_minor": 2
}
