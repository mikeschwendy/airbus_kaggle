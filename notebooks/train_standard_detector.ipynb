{
 "cells": [
  {
   "cell_type": "code",
   "execution_count": 1,
   "metadata": {},
   "outputs": [],
   "source": [
    "import os\n",
    "import sys\n",
    "import time\n",
    "import datetime\n",
    "import argparse\n",
    "import pickle\n",
    "from skimage.data import imread\n",
    "import torch\n",
    "from torch.utils.data import DataLoader\n",
    "from torchvision import datasets\n",
    "from torchvision import transforms\n",
    "from torch.autograd import Variable\n",
    "import torch.optim as optim\n",
    "\n",
    "sys.path.append('/Users/mike/Desktop/airbus_kaggle/src/PyTorch-YOLOv3_lite')"
   ]
  },
  {
   "cell_type": "code",
   "execution_count": 2,
   "metadata": {},
   "outputs": [],
   "source": [
    "%load_ext autoreload\n",
    "%autoreload 2\n",
    "from models import *\n",
    "from utils.utils import *\n",
    "from utils.datasets import *\n",
    "from utils.parse_config import *"
   ]
  },
  {
   "cell_type": "code",
   "execution_count": 15,
   "metadata": {},
   "outputs": [
    {
     "name": "stdout",
     "output_type": "stream",
     "text": [
      "Namespace(batch_size=16, box_file='/airbus/box_data.pickle', checkpoint_dir='/Users/mike/Desktop/airbus_kaggle/output', checkpoint_interval=1, conf_thres=0.8, epochs=30, image_folder='/Users/mike/Desktop/airbus_kaggle/data/train', img_size=64, model_config_path='/Users/mike/Desktop/airbus_kaggle/src/PyTorch-YOLOv3_lite/config/classifier.cfg', n_cpu=4, nms_thres=0.4, use_cuda=True, weights_path='/Users/mike/Desktop/airbus_kaggle/classifier_weights/6.weights')\n"
     ]
    }
   ],
   "source": [
    "args = ['--image_folder','/Users/mike/Desktop/airbus_kaggle/data/train',\n",
    "        '--box_file','/airbus/box_data.pickle',\n",
    "        '--model_config_path','/Users/mike/Desktop/airbus_kaggle/src/PyTorch-YOLOv3_lite/config/classifier.cfg',\n",
    "        '--weights_path','/Users/mike/Desktop/airbus_kaggle/classifier_weights/6.weights',\n",
    "        '--checkpoint_dir','/Users/mike/Desktop/airbus_kaggle/output',\n",
    "        '--img_size','64',\n",
    "        '--epochs','30',\n",
    "        '--n_cpu','4',\n",
    "        '--use_cuda','True']\n",
    "parser = argparse.ArgumentParser()\n",
    "parser.add_argument('--epochs', type=int, default=30, help='number of epochs')\n",
    "parser.add_argument('--image_folder', type=str, default='data/samples', help='path to dataset')\n",
    "parser.add_argument('--box_file', type=str, default='data/samples', help='path to box data')\n",
    "parser.add_argument('--batch_size', type=int, default=16, help='size of each image batch')\n",
    "parser.add_argument('--model_config_path', type=str, default='config/yolov3.cfg', help='path to model config file')\n",
    "parser.add_argument('--weights_path', type=str, default='weights/yolov3.weights', help='path to weights file')\n",
    "parser.add_argument('--conf_thres', type=float, default=0.8, help='object confidence threshold')\n",
    "parser.add_argument('--nms_thres', type=float, default=0.4, help='iou thresshold for non-maximum suppression')\n",
    "parser.add_argument('--n_cpu', type=int, default=0, help='number of cpu threads to use during batch generation')\n",
    "parser.add_argument('--img_size', type=int, default=416, help='size of each image dimension')\n",
    "parser.add_argument('--checkpoint_interval', type=int, default=1, help='interval between saving model weights')\n",
    "parser.add_argument('--checkpoint_dir', type=str, default='checkpoints', help='directory where model checkpoints are saved')\n",
    "parser.add_argument('--use_cuda', type=bool, default=True, help='whether to use cuda if available')\n",
    "opt = parser.parse_args(args)\n",
    "print(opt)\n"
   ]
  },
  {
   "cell_type": "code",
   "execution_count": 12,
   "metadata": {},
   "outputs": [],
   "source": [
    "cuda = torch.cuda.is_available() and opt.use_cuda\n",
    "\n",
    "os.makedirs(opt.checkpoint_dir, exist_ok=True)\n",
    "\n",
    "# Get hyper parameters\n",
    "hyperparams     = parse_model_config(opt.model_config_path)[0]\n",
    "learning_rate   = float(hyperparams['learning_rate'])\n",
    "momentum        = float(hyperparams['momentum'])\n",
    "decay           = float(hyperparams['decay'])\n",
    "burn_in         = int(hyperparams['burn_in'])\n",
    "\n",
    "# Initiate model\n",
    "model = Darknet_Classifier(opt.model_config_path)\n",
    "model.load_weights(opt.weights_path)\n",
    "model.apply(weights_init_normal)\n",
    "\n",
    "if cuda:\n",
    "    model = model.cuda()\n",
    "\n",
    "model.train();\n",
    "\n"
   ]
  },
  {
   "cell_type": "code",
   "execution_count": 13,
   "metadata": {},
   "outputs": [],
   "source": [
    "# Get dataloader\n",
    "outfile = '../../data/box_data.pickle'\n",
    "\n",
    "with open(outfile, 'rb') as f:\n",
    "    data = pickle.load(f)\n",
    "    \n",
    "dataloader = torch.utils.data.DataLoader(\n",
    "    BoxedDataset('../../data/train',(768,768),data),\n",
    "    batch_size=opt.batch_size, shuffle=True, num_workers=opt.n_cpu)\n",
    "\n",
    "Tensor = torch.cuda.FloatTensor if cuda else torch.FloatTensor\n",
    "\n",
    "optimizer = optim.SGD(model.parameters(), lr=learning_rate, momentum=momentum, dampening=0, weight_decay=decay)\n"
   ]
  },
  {
   "cell_type": "code",
   "execution_count": 18,
   "metadata": {},
   "outputs": [],
   "source": [
    "class BoxDetections(Dataset):\n",
    "    def __init__(self,imgdir,imgsize,data):\n",
    "        super().__init__()\n",
    "        self.imgdir = imgdir\n",
    "        self.imgsize = imgsize\n",
    "        self.box_image_ids = data['box_image_ids']\n",
    "        self.L1 = data['L1']\n",
    "        self.L2 = data['L2']\n",
    "        self.R0 = data['C0'] # accidently switched when saved\n",
    "        self.C0 = data['R0'] # accidently switched when saved\n",
    "        self.theta = data['theta']\n",
    "        self.all_image_ids = data['all_image_ids']\n",
    "        self.num_ships = data['num_ships']\n",
    "        self.total_ships = sum(self.num_ships)\n",
    "        self.total_imgs = len(self.all_image_ids)\n",
    "    def __len__(self):\n",
    "        return self.total_imgs\n",
    "    def __getitem__(self,idx):\n",
    "        img_path = os.path.join(self.imgdir,self.all_image_ids[idx])\n",
    "        img = np.array(Image.open(img_path)) \n",
    "        # Channels-first\n",
    "        img = np.transpose(img, (2, 0, 1))\n",
    "        # As pytorch tensor\n",
    "        img = torch.from_numpy(img).float()\n",
    "        return img  \n",
    "    "
   ]
  },
  {
   "cell_type": "code",
   "execution_count": 19,
   "metadata": {},
   "outputs": [
    {
     "data": {
      "text/plain": [
       "tensor([[[ 30.,  30.,  28.,  ...,  30.,  35.,  36.],\n",
       "         [ 29.,  30.,  30.,  ...,  28.,  31.,  30.],\n",
       "         [ 28.,  31.,  32.,  ...,  27.,  28.,  26.],\n",
       "         ...,\n",
       "         [ 25.,  27.,  24.,  ...,  20.,  26.,  28.],\n",
       "         [ 25.,  25.,  23.,  ...,  19.,  25.,  25.],\n",
       "         [ 21.,  21.,  20.,  ...,  28.,  30.,  27.]],\n",
       "\n",
       "        [[ 49.,  49.,  47.,  ...,  47.,  52.,  53.],\n",
       "         [ 48.,  49.,  49.,  ...,  45.,  48.,  47.],\n",
       "         [ 47.,  50.,  51.,  ...,  44.,  45.,  43.],\n",
       "         ...,\n",
       "         [ 49.,  51.,  48.,  ...,  44.,  50.,  52.],\n",
       "         [ 49.,  49.,  47.,  ...,  43.,  49.,  49.],\n",
       "         [ 45.,  45.,  44.,  ...,  52.,  54.,  51.]],\n",
       "\n",
       "        [[ 79.,  79.,  77.,  ...,  77.,  82.,  83.],\n",
       "         [ 78.,  79.,  79.,  ...,  73.,  78.,  77.],\n",
       "         [ 77.,  80.,  81.,  ...,  72.,  75.,  73.],\n",
       "         ...,\n",
       "         [ 77.,  79.,  76.,  ...,  70.,  76.,  78.],\n",
       "         [ 77.,  77.,  75.,  ...,  69.,  75.,  75.],\n",
       "         [ 73.,  73.,  72.,  ...,  78.,  80.,  77.]]])"
      ]
     },
     "execution_count": 19,
     "metadata": {},
     "output_type": "execute_result"
    }
   ],
   "source": [
    "bdtest = BoxDetections(opt.image_folder,(768,768),data)\n",
    "bdtest.__getitem__(0)"
   ]
  },
  {
   "cell_type": "code",
   "execution_count": null,
   "metadata": {},
   "outputs": [],
   "source": []
  }
 ],
 "metadata": {
  "kernelspec": {
   "display_name": "Python 3",
   "language": "python",
   "name": "python3"
  },
  "language_info": {
   "codemirror_mode": {
    "name": "ipython",
    "version": 3
   },
   "file_extension": ".py",
   "mimetype": "text/x-python",
   "name": "python",
   "nbconvert_exporter": "python",
   "pygments_lexer": "ipython3",
   "version": "3.6.6"
  }
 },
 "nbformat": 4,
 "nbformat_minor": 2
}
